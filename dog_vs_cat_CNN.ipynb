{
  "nbformat": 4,
  "nbformat_minor": 0,
  "metadata": {
    "colab": {
      "name": "dog vs cat CNN.ipynb",
      "provenance": [],
      "mount_file_id": "1TpjMjFxwuOUz_SW5HkHYZPxl4DPn7Vni",
      "authorship_tag": "ABX9TyPPYWaUVeCCiFNbF9yXngUM",
      "include_colab_link": true
    },
    "kernelspec": {
      "name": "python3",
      "display_name": "Python 3"
    },
    "accelerator": "GPU"
  },
  "cells": [
    {
      "cell_type": "markdown",
      "metadata": {
        "id": "view-in-github",
        "colab_type": "text"
      },
      "source": [
        "<a href=\"https://colab.research.google.com/github/subbugalam47/cats-vs-dogs_CNN/blob/kaggle_competations/dog_vs_cat_CNN.ipynb\" target=\"_parent\"><img src=\"https://colab.research.google.com/assets/colab-badge.svg\" alt=\"Open In Colab\"/></a>"
      ]
    },
    {
      "cell_type": "code",
      "metadata": {
        "id": "4Y1KcxMymWgL",
        "colab": {
          "base_uri": "https://localhost:8080/"
        },
        "outputId": "7e74a0fa-9896-4f7f-db8b-d60134c096cb"
      },
      "source": [
        "\r\n",
        "# using kaggle api for my dataset to download \r\n",
        "\r\n",
        "import os\r\n",
        "os.environ['KAGGLE_USERNAME'] = \"subbugalam\" # username from the json file\r\n",
        "os.environ['KAGGLE_KEY'] = \"13e8240df5e590ce4365bd6e13f842a1\" # key from the json file\r\n",
        "!kaggle competitions download -c dogs-vs-cats # api copied from kaggle\r\n",
        "{\"username\":\"subbugalam\",\"key\":\"13e8240df5e590ce4365bd6e13f842a1\"}"
      ],
      "execution_count": null,
      "outputs": [
        {
          "output_type": "stream",
          "text": [
            "Warning: Looks like you're using an outdated API Version, please consider updating (server 1.5.10 / client 1.5.4)\n",
            "Downloading test1.zip to /content\n",
            " 96% 261M/271M [00:02<00:00, 180MB/s]\n",
            "100% 271M/271M [00:02<00:00, 128MB/s]\n",
            "Downloading sampleSubmission.csv to /content\n",
            "  0% 0.00/86.8k [00:00<?, ?B/s]\n",
            "100% 86.8k/86.8k [00:00<00:00, 89.9MB/s]\n",
            "Downloading train.zip to /content\n",
            " 99% 538M/543M [00:03<00:00, 207MB/s]\n",
            "100% 543M/543M [00:03<00:00, 165MB/s]\n"
          ],
          "name": "stdout"
        },
        {
          "output_type": "execute_result",
          "data": {
            "text/plain": [
              "{'key': '13e8240df5e590ce4365bd6e13f842a1', 'username': 'subbugalam'}"
            ]
          },
          "metadata": {
            "tags": []
          },
          "execution_count": 1
        }
      ]
    },
    {
      "cell_type": "markdown",
      "metadata": {
        "id": "W0pN6l5IH7Gy"
      },
      "source": [
        "## Unzipping Train data"
      ]
    },
    {
      "cell_type": "code",
      "metadata": {
        "colab": {
          "base_uri": "https://localhost:8080/"
        },
        "id": "z-Y-YeN9j4Fk",
        "outputId": "2ca65d05-dd34-4db4-f72d-d1f32dabd3fa"
      },
      "source": [
        "# Upload data\r\n",
        "from zipfile import ZipFile\r\n",
        "\r\n",
        "file_name = \"/content/train.zip\"\r\n",
        "\r\n",
        "with ZipFile(file_name, 'r') as zip:\r\n",
        "  zip.extractall()\r\n",
        "  print('done')"
      ],
      "execution_count": null,
      "outputs": [
        {
          "output_type": "stream",
          "text": [
            "done\n"
          ],
          "name": "stdout"
        }
      ]
    },
    {
      "cell_type": "markdown",
      "metadata": {
        "id": "mOC6tUguIbcR"
      },
      "source": [
        "## Creating Directories and folder"
      ]
    },
    {
      "cell_type": "code",
      "metadata": {
        "colab": {
          "base_uri": "https://localhost:8080/"
        },
        "id": "9stOXYl2kGZ6",
        "outputId": "ef139848-6826-4654-dfea-2bf8ce05126a"
      },
      "source": [
        "data_dir_list = os.listdir('/content/train')\r\n",
        "#print(data_dir_list)\r\n",
        "\r\n",
        "path, dirs, files = next(os.walk(\"/content/train\"))\r\n",
        "file_count = len(files)\r\n",
        "print(file_count)"
      ],
      "execution_count": null,
      "outputs": [
        {
          "output_type": "stream",
          "text": [
            "25000\n"
          ],
          "name": "stdout"
        }
      ]
    },
    {
      "cell_type": "code",
      "metadata": {
        "id": "q9vjMnZnkU2M"
      },
      "source": [
        "\r\n",
        "original_dataset_dir = '/content/train'\r\n",
        "base_dir = '/content/cats_and_dogs_small'\r\n",
        "os.mkdir(base_dir)"
      ],
      "execution_count": null,
      "outputs": []
    },
    {
      "cell_type": "code",
      "metadata": {
        "id": "YkYR0yijkctI"
      },
      "source": [
        "train_dir = os.path.join(base_dir, 'train')\r\n",
        "os.mkdir(train_dir)\r\n",
        "\r\n",
        "validation_dir = os.path.join(base_dir, 'validation')\r\n",
        "os.mkdir(validation_dir)\r\n",
        "\r\n",
        "test_dir = os.path.join(base_dir, 'test')\r\n",
        "os.mkdir(test_dir)\r\n",
        "\r\n",
        "train_cats_dir = os.path.join(train_dir, 'cats')\r\n",
        "os.mkdir(train_cats_dir)\r\n",
        "\r\n",
        "train_dogs_dir = os.path.join(train_dir, 'dogs')\r\n",
        "os.mkdir(train_dogs_dir)\r\n",
        "\r\n",
        "validation_cats_dir = os.path.join(validation_dir, 'cats')\r\n",
        "os.mkdir(validation_cats_dir)\r\n",
        "\r\n",
        "validation_dogs_dir = os.path.join(validation_dir, 'dogs')\r\n",
        "os.mkdir(validation_dogs_dir)\r\n",
        "\r\n",
        "test_cats_dir = os.path.join(test_dir, 'cats')\r\n",
        "os.mkdir(test_cats_dir)\r\n",
        "\r\n",
        "test_dogs_dir = os.path.join(test_dir, 'dogs')\r\n",
        "os.mkdir(test_dogs_dir)"
      ],
      "execution_count": null,
      "outputs": []
    },
    {
      "cell_type": "code",
      "metadata": {
        "id": "my7eSMmrkkQO"
      },
      "source": [
        "\r\n",
        "import shutil\r\n",
        "fnames = ['cat.{}.jpg'.format(i) for i in range(1000)]\r\n",
        "for fname in fnames:\r\n",
        "    src = os.path.join(original_dataset_dir, fname)\r\n",
        "    dst = os.path.join(train_cats_dir, fname)\r\n",
        "    #print(src,dst)\r\n",
        "    shutil.copyfile(src, dst)\r\n",
        "    \r\n",
        "fnames = ['cat.{}.jpg'.format(i) for i in range(1000, 1500)]\r\n",
        "for fname in fnames:\r\n",
        "    src = os.path.join(original_dataset_dir, fname)\r\n",
        "    dst = os.path.join(validation_cats_dir, fname)\r\n",
        "    shutil.copyfile(src, dst)\r\n",
        "\r\n",
        "fnames = ['cat.{}.jpg'.format(i) for i in range(1500, 2000)]\r\n",
        "for fname in fnames:\r\n",
        "    src = os.path.join(original_dataset_dir, fname)\r\n",
        "    dst = os.path.join(test_cats_dir, fname)\r\n",
        "    shutil.copyfile(src, dst)\r\n",
        "    \r\n",
        "fnames = ['dog.{}.jpg'.format(i) for i in range(1000)]\r\n",
        "for fname in fnames:\r\n",
        "    src = os.path.join(original_dataset_dir, fname)\r\n",
        "    dst = os.path.join(train_dogs_dir, fname)\r\n",
        "    shutil.copyfile(src, dst)\r\n",
        "\r\n",
        "fnames = ['dog.{}.jpg'.format(i) for i in range(1000, 1500)]\r\n",
        "for fname in fnames:\r\n",
        "    src = os.path.join(original_dataset_dir, fname)\r\n",
        "    dst = os.path.join(validation_dogs_dir, fname)\r\n",
        "    shutil.copyfile(src, dst)\r\n",
        "\r\n",
        "fnames = ['dog.{}.jpg'.format(i) for i in range(1500, 2000)]\r\n",
        "for fname in fnames:\r\n",
        "    src = os.path.join(original_dataset_dir, fname)\r\n",
        "    dst = os.path.join(test_dogs_dir, fname)\r\n",
        "    shutil.copyfile(src, dst)"
      ],
      "execution_count": null,
      "outputs": []
    },
    {
      "cell_type": "code",
      "metadata": {
        "colab": {
          "base_uri": "https://localhost:8080/"
        },
        "id": "TFVOXNOwkzWT",
        "outputId": "3bb76508-7aaf-4e79-c64f-9e5f437d8f78"
      },
      "source": [
        "\r\n",
        "print('total training cat images:', len(os.listdir(train_cats_dir)))\r\n",
        "print('total training dog images:', len(os.listdir(train_dogs_dir)))\r\n",
        "print('total validation cat images:', len(os.listdir(validation_cats_dir)))\r\n",
        "\r\n",
        "print('total validation dog images:', len(os.listdir(validation_dogs_dir)))\r\n",
        "print('total test cat images:', len(os.listdir(test_cats_dir)))\r\n",
        "print('total test dog images:', len(os.listdir(test_dogs_dir)))"
      ],
      "execution_count": null,
      "outputs": [
        {
          "output_type": "stream",
          "text": [
            "total training cat images: 1000\n",
            "total training dog images: 1000\n",
            "total validation cat images: 500\n",
            "total validation dog images: 500\n",
            "total test cat images: 500\n",
            "total test dog images: 500\n"
          ],
          "name": "stdout"
        }
      ]
    },
    {
      "cell_type": "markdown",
      "metadata": {
        "id": "fIWcnWyzIxoZ"
      },
      "source": [
        "## Converting my image data into array "
      ]
    },
    {
      "cell_type": "code",
      "metadata": {
        "id": "gyG8JM9VlFCQ"
      },
      "source": [
        "directory = '/content/cats_and_dogs_small/train'\r\n",
        "categeries = ['cats','dogs']"
      ],
      "execution_count": null,
      "outputs": []
    },
    {
      "cell_type": "code",
      "metadata": {
        "id": "2fpMIV9ZpquA"
      },
      "source": [
        "import numpy as np\r\n",
        "import matplotlib.pyplot as plt\r\n",
        "import cv2\r\n"
      ],
      "execution_count": null,
      "outputs": []
    },
    {
      "cell_type": "code",
      "metadata": {
        "id": "ZFEFr811pq9L"
      },
      "source": [
        ""
      ],
      "execution_count": null,
      "outputs": []
    },
    {
      "cell_type": "code",
      "metadata": {
        "id": "nxd_UujhlGjV"
      },
      "source": [
        "data = []\r\n",
        "image_size = 100\r\n",
        "for categery in categeries:\r\n",
        "  label = categeries.index(categery)\r\n",
        "  folder =os.path.join(directory,categery)\r\n",
        "  for img in os.listdir(folder):\r\n",
        "    \r\n",
        "    img_path =os.path.join(folder,img)\r\n",
        "    img_arr =cv2.imread(img_path)\r\n",
        "    img_arr= cv2.resize(img_arr,(image_size,image_size))\r\n",
        "    data.append([img_arr,label])\r\n",
        "       \r\n",
        "\r\n"
      ],
      "execution_count": null,
      "outputs": []
    },
    {
      "cell_type": "code",
      "metadata": {
        "colab": {
          "base_uri": "https://localhost:8080/"
        },
        "id": "5RtZFZsZlGlH",
        "outputId": "4b75da74-1452-4ac4-b37a-0cf01b4c5308"
      },
      "source": [
        "len(data)"
      ],
      "execution_count": null,
      "outputs": [
        {
          "output_type": "execute_result",
          "data": {
            "text/plain": [
              "2000"
            ]
          },
          "metadata": {
            "tags": []
          },
          "execution_count": 61
        }
      ]
    },
    {
      "cell_type": "code",
      "metadata": {
        "id": "bq8PhnDxlGpK"
      },
      "source": [
        "import random"
      ],
      "execution_count": null,
      "outputs": []
    },
    {
      "cell_type": "code",
      "metadata": {
        "id": "2CatlXAOlGsC"
      },
      "source": [
        "random.shuffle(data)"
      ],
      "execution_count": null,
      "outputs": []
    },
    {
      "cell_type": "code",
      "metadata": {
        "id": "4HWtmKewuLlL"
      },
      "source": [
        ""
      ],
      "execution_count": null,
      "outputs": []
    },
    {
      "cell_type": "code",
      "metadata": {
        "id": "nTtbKE6WuWb-"
      },
      "source": [
        "X =[]\r\n",
        "y = []\r\n",
        "for features,labels in data:\r\n",
        "  X.append(features)\r\n",
        "  y.append(labels)"
      ],
      "execution_count": null,
      "outputs": []
    },
    {
      "cell_type": "code",
      "metadata": {
        "id": "Zh36qHSz0JLh"
      },
      "source": [
        "X=np.array(X)\r\n",
        "y=np.array(y)"
      ],
      "execution_count": null,
      "outputs": []
    },
    {
      "cell_type": "markdown",
      "metadata": {
        "id": "GEeobKslJWbB"
      },
      "source": [
        "## Saving as pikle file "
      ]
    },
    {
      "cell_type": "code",
      "metadata": {
        "id": "i3L95e0zu7c1"
      },
      "source": [
        "import pickle "
      ],
      "execution_count": null,
      "outputs": []
    },
    {
      "cell_type": "code",
      "metadata": {
        "id": "zRD4-X98vQiU"
      },
      "source": [
        "pickle.dump(X,open('X.pkl','wb'))\r\n",
        "pickle.dump(y,open('y.pkl','wb'))"
      ],
      "execution_count": null,
      "outputs": []
    },
    {
      "cell_type": "code",
      "metadata": {
        "id": "S4LE3sc1vu-J"
      },
      "source": [
        "X=pickle.load(open('X.pkl','rb'))\r\n",
        "y=pickle.load(open('y.pkl','rb'))"
      ],
      "execution_count": null,
      "outputs": []
    },
    {
      "cell_type": "code",
      "metadata": {
        "id": "fSkDBDqGwtrP"
      },
      "source": [
        "X=X/255\r\n"
      ],
      "execution_count": null,
      "outputs": []
    },
    {
      "cell_type": "code",
      "metadata": {
        "colab": {
          "base_uri": "https://localhost:8080/"
        },
        "id": "pr2zPrGZw5Bl",
        "outputId": "ae4e2f5f-d778-4e50-a6d3-196a19a775fa"
      },
      "source": [
        "X.shape"
      ],
      "execution_count": null,
      "outputs": [
        {
          "output_type": "execute_result",
          "data": {
            "text/plain": [
              "(2000, 100, 100, 3)"
            ]
          },
          "metadata": {
            "tags": []
          },
          "execution_count": 71
        }
      ]
    },
    {
      "cell_type": "code",
      "metadata": {
        "id": "ghxn6fvpJoC-"
      },
      "source": [
        ""
      ],
      "execution_count": null,
      "outputs": []
    },
    {
      "cell_type": "markdown",
      "metadata": {
        "id": "_DDFJfDXKXfi"
      },
      "source": [
        "## preparing simple CNN model"
      ]
    },
    {
      "cell_type": "code",
      "metadata": {
        "id": "73BGI2aJ0rPW"
      },
      "source": [
        "import keras\r\n",
        "from keras.models import Sequential\r\n",
        "from keras.layers import Conv2D,Flatten,Dense,MaxPooling2D"
      ],
      "execution_count": null,
      "outputs": []
    },
    {
      "cell_type": "code",
      "metadata": {
        "id": "NHhpb3DK3Hfa"
      },
      "source": [
        "model = Sequential()\r\n",
        "model.add(Conv2D(64,(3,3),activation='relu'))\r\n",
        "model.add(MaxPooling2D((2,2)))\r\n",
        "\r\n",
        "model.add(Conv2D(64,(3,3),activation='relu'))\r\n",
        "model.add(MaxPooling2D((2,2)))\r\n",
        "\r\n",
        "model.add(Flatten())\r\n",
        "\r\n",
        "model.add(Dense(128,input_shape=X.shape[1:],activation='relu'))\r\n",
        "model.add(Dense(2,activation='softmax'))\r\n",
        "\r\n",
        "\r\n",
        "model.compile(optimizer='adam',loss='sparse_categorical_crossentropy',metrics=['accuracy'])\r\n",
        "\r\n",
        "\r\n"
      ],
      "execution_count": null,
      "outputs": []
    },
    {
      "cell_type": "code",
      "metadata": {
        "colab": {
          "base_uri": "https://localhost:8080/"
        },
        "id": "L1yDWEHp4IxD",
        "outputId": "b49589ea-0e51-4317-fdf1-d61a08c145ce"
      },
      "source": [
        "model.fit(X,y,epochs=5,validation_split=0.2)"
      ],
      "execution_count": null,
      "outputs": [
        {
          "output_type": "stream",
          "text": [
            "Epoch 1/5\n",
            "50/50 [==============================] - 8s 23ms/step - loss: 1.2499 - accuracy: 0.4905 - val_loss: 0.6917 - val_accuracy: 0.5325\n",
            "Epoch 2/5\n",
            "50/50 [==============================] - 1s 15ms/step - loss: 0.6836 - accuracy: 0.5950 - val_loss: 0.6780 - val_accuracy: 0.5700\n",
            "Epoch 3/5\n",
            "50/50 [==============================] - 1s 15ms/step - loss: 0.6416 - accuracy: 0.6318 - val_loss: 0.6616 - val_accuracy: 0.6100\n",
            "Epoch 4/5\n",
            "50/50 [==============================] - 1s 15ms/step - loss: 0.6020 - accuracy: 0.6724 - val_loss: 0.7013 - val_accuracy: 0.6125\n",
            "Epoch 5/5\n",
            "50/50 [==============================] - 1s 15ms/step - loss: 0.5190 - accuracy: 0.7335 - val_loss: 0.7247 - val_accuracy: 0.5925\n"
          ],
          "name": "stdout"
        },
        {
          "output_type": "execute_result",
          "data": {
            "text/plain": [
              "<tensorflow.python.keras.callbacks.History at 0x7efb3e4088d0>"
            ]
          },
          "metadata": {
            "tags": []
          },
          "execution_count": 82
        }
      ]
    },
    {
      "cell_type": "code",
      "metadata": {
        "id": "WyNyCxvj6lvs"
      },
      "source": [
        "import tensorflow\r\n",
        "import time"
      ],
      "execution_count": null,
      "outputs": []
    },
    {
      "cell_type": "markdown",
      "metadata": {
        "id": "SHRwQB3fKhTP"
      },
      "source": [
        "## working with Tensor board"
      ]
    },
    {
      "cell_type": "code",
      "metadata": {
        "id": "jzD0oAvl7xx1"
      },
      "source": [
        "from tensorflow.keras.callbacks import TensorBoard"
      ],
      "execution_count": null,
      "outputs": []
    },
    {
      "cell_type": "code",
      "metadata": {
        "id": "rhkkQixx76_i"
      },
      "source": [
        "Name = f'dog_vs_cat_prediction {int(time.time())}'\r\n",
        "tensorboard =TensorBoard(log_dir=f'logs\\\\{Name}\\\\')"
      ],
      "execution_count": null,
      "outputs": []
    },
    {
      "cell_type": "code",
      "metadata": {
        "colab": {
          "base_uri": "https://localhost:8080/"
        },
        "id": "p5lzz-lI-BZ5",
        "outputId": "80c91075-1d8e-4f7f-db2c-a20a592cc260"
      },
      "source": [
        "training_model=model.fit(X,y,callbacks=[tensorboard],validation_split=0.1,epochs=5)"
      ],
      "execution_count": null,
      "outputs": [
        {
          "output_type": "stream",
          "text": [
            "Epoch 1/5\n",
            "57/57 [==============================] - 1s 21ms/step - loss: 0.4749 - accuracy: 0.7800 - val_loss: 0.8387 - val_accuracy: 0.5900\n",
            "Epoch 2/5\n",
            "57/57 [==============================] - 1s 17ms/step - loss: 0.3833 - accuracy: 0.8306 - val_loss: 1.0895 - val_accuracy: 0.5850\n",
            "Epoch 3/5\n",
            "57/57 [==============================] - 1s 17ms/step - loss: 0.2504 - accuracy: 0.8961 - val_loss: 1.1280 - val_accuracy: 0.5700\n",
            "Epoch 4/5\n",
            "57/57 [==============================] - 1s 17ms/step - loss: 0.1394 - accuracy: 0.9522 - val_loss: 1.3395 - val_accuracy: 0.6250\n",
            "Epoch 5/5\n",
            "57/57 [==============================] - 1s 17ms/step - loss: 0.0898 - accuracy: 0.9667 - val_loss: 1.6777 - val_accuracy: 0.5800\n"
          ],
          "name": "stdout"
        }
      ]
    },
    {
      "cell_type": "code",
      "metadata": {
        "id": "ntDikgIV_FkW"
      },
      "source": [
        ""
      ],
      "execution_count": null,
      "outputs": []
    }
  ]
}